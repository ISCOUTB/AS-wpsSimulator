{
 "cells": [
  {
   "cell_type": "code",
   "execution_count": 36,
   "id": "f4771df7-ced1-45f7-a517-4224be49b84e",
   "metadata": {},
   "outputs": [],
   "source": [
    "import json\n",
    "import pandas as pd\n",
    "import os\n",
    "\n",
    "def procesar_linea_json(linea):\n",
    "    inicio_json = linea.find('{')\n",
    "    contenido_json = linea[inicio_json:]\n",
    "    # Reemplazar caracteres de escape\n",
    "    contenido_json_limpio = contenido_json.replace('\\\"', '\"')\n",
    "    return json.loads(contenido_json_limpio)\n",
    "\n",
    "def procesar_archivo(ruta_archivo):\n",
    "    datos = []\n",
    "    with open(ruta_archivo, 'r') as archivo:\n",
    "        for linea in archivo:\n",
    "            datos_agente = procesar_linea_json(linea)\n",
    "            datos.append(datos_agente)\n",
    "    return datos\n",
    "\n",
    "def procesar_archivos(directorio):\n",
    "    datos_totales = []\n",
    "    for archivo in os.listdir(directorio):\n",
    "        if archivo.endswith('.log'):\n",
    "            ruta_completa = os.path.join(directorio, archivo)\n",
    "            datos_archivo = procesar_archivo(ruta_completa)\n",
    "            for dato in datos_archivo:\n",
    "                estado_agente = dato.get('state', '{}')\n",
    "                # Asegurarse de que estado_agente sea un diccionario\n",
    "                if isinstance(estado_agente, str):\n",
    "                    estado_agente = json.loads(estado_agente)\n",
    "                estado_agente['nombre_agente'] = dato.get('name', 'Desconocido')\n",
    "                datos_totales.append(estado_agente)\n",
    "    \n",
    "    df = pd.DataFrame(datos_totales)\n",
    "    return df\n",
    "\n",
    "def calculos(data):\n",
    "    # Asegurándose de que 'money' es numérico\n",
    "    data['money'] = pd.to_numeric(data['money'], errors='coerce')\n",
    "    \n",
    "    # Calculando el promedio de 'money' agrupado por 'nombre_agente'\n",
    "    promedio_money_por_agente = data.groupby('nombre_agente')['money'].mean()\n",
    "    desviacion_estandar_money = data.groupby('nombre_agente')['money'].std()\n",
    "    coeficiente_variacion_money_por_agente = (desviacion_estandar_money / promedio_money_por_agente) * 100\n",
    "    \n",
    "    # Mostrar los resultados agrupados\n",
    "    print(\"Promedio por Agente:\\n\", promedio_money_por_agente)\n",
    "    print(\"\\nDesviación Estándar por Agente:\\n\", desviacion_estandar_money)\n",
    "    print(\"\\nCoeficiente de Variación por Agente (%):\\n\", coeficiente_variacion_money_por_agente)\n",
    "\n",
    "    # Calculando el promedio total y la varianza de 'money'\n",
    "    promedio_total_money = data['money'].mean()\n",
    "    varianza_money = data['money'].var()\n",
    "    \n",
    "    # Mostrar los resultados totales\n",
    "    print(\"\\nPromedio total de 'money':\", promedio_total_money)\n",
    "    print(\"Varianza de 'money':\", varianza_money)"
   ]
  },
  {
   "cell_type": "code",
   "execution_count": 39,
   "id": "bb380544-d275-4918-a6ab-d50c2cab002d",
   "metadata": {},
   "outputs": [
    {
     "name": "stdout",
     "output_type": "stream",
     "text": [
      "Promedio por Agente:\n",
      " nombre_agente\n",
      "PeasantFamily_1    1494072.2\n",
      "PeasantFamily_2    1632230.2\n",
      "PeasantFamily_3    2021538.2\n",
      "PeasantFamily_4    1476641.0\n",
      "PeasantFamily_5    1640211.0\n",
      "Name: money, dtype: float64\n",
      "\n",
      "Desviación Estándar por Agente:\n",
      " nombre_agente\n",
      "PeasantFamily_1    532380.074178\n",
      "PeasantFamily_2    641813.130908\n",
      "PeasantFamily_3    531806.338242\n",
      "PeasantFamily_4    621693.039082\n",
      "PeasantFamily_5    704506.052093\n",
      "Name: money, dtype: float64\n",
      "\n",
      "Coeficiente de Variación por Agente (%):\n",
      " nombre_agente\n",
      "PeasantFamily_1    35.632821\n",
      "PeasantFamily_2    39.321239\n",
      "PeasantFamily_3    26.307014\n",
      "PeasantFamily_4    42.101841\n",
      "PeasantFamily_5    42.952160\n",
      "Name: money, dtype: float64\n",
      "\n",
      "Promedio total de 'money': 1652938.52\n",
      "Varianza de 'money': 350328578586.76\n"
     ]
    }
   ],
   "source": [
    "dfEmotions = procesar_archivos('test01/')\n",
    "calculos(dfEmotions)"
   ]
  },
  {
   "cell_type": "code",
   "execution_count": 40,
   "id": "58760e88-4bf3-4ad2-ae37-58f59cb20471",
   "metadata": {},
   "outputs": [
    {
     "name": "stdout",
     "output_type": "stream",
     "text": [
      "Promedio por Agente:\n",
      " nombre_agente\n",
      "PeasantFamily_1    1.522125e+06\n",
      "PeasantFamily_2    1.453583e+06\n",
      "PeasantFamily_3    1.510734e+06\n",
      "PeasantFamily_4    1.307384e+06\n",
      "PeasantFamily_5    1.628199e+06\n",
      "Name: money, dtype: float64\n",
      "\n",
      "Desviación Estándar por Agente:\n",
      " nombre_agente\n",
      "PeasantFamily_1    387226.852233\n",
      "PeasantFamily_2    453875.633706\n",
      "PeasantFamily_3    346405.909223\n",
      "PeasantFamily_4    525983.189700\n",
      "PeasantFamily_5    424401.237171\n",
      "Name: money, dtype: float64\n",
      "\n",
      "Coeficiente de Variación por Agente (%):\n",
      " nombre_agente\n",
      "PeasantFamily_1    25.439880\n",
      "PeasantFamily_2    31.224602\n",
      "PeasantFamily_3    22.929636\n",
      "PeasantFamily_4    40.231734\n",
      "PeasantFamily_5    26.065690\n",
      "Name: money, dtype: float64\n",
      "\n",
      "Promedio total de 'money': 1484405.142857143\n",
      "Varianza de 'money': 175937383894.00842\n"
     ]
    }
   ],
   "source": [
    "dfNOEmotions = procesar_archivos('test02/')\n",
    "calculos(dfNOEmotions)"
   ]
  },
  {
   "cell_type": "code",
   "execution_count": null,
   "id": "bd113fd3-dbf8-4f52-9241-da8f4b837b1a",
   "metadata": {},
   "outputs": [],
   "source": []
  }
 ],
 "metadata": {
  "kernelspec": {
   "display_name": "Python 3 (ipykernel)",
   "language": "python",
   "name": "python3"
  },
  "language_info": {
   "codemirror_mode": {
    "name": "ipython",
    "version": 3
   },
   "file_extension": ".py",
   "mimetype": "text/x-python",
   "name": "python",
   "nbconvert_exporter": "python",
   "pygments_lexer": "ipython3",
   "version": "3.11.6"
  }
 },
 "nbformat": 4,
 "nbformat_minor": 5
}
