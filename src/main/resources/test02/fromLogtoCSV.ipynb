{
 "cells": [
  {
   "cell_type": "code",
   "execution_count": 1,
   "id": "569e4e0d-8089-4a26-9fbc-9b92dcaed39d",
   "metadata": {
    "editable": true,
    "slideshow": {
     "slide_type": ""
    },
    "tags": []
   },
   "outputs": [],
   "source": [
    "import json\n",
    "import csv\n",
    "import ast\n",
    "\n",
    "def generate_csv(json_file_path, csv_file_path):\n",
    "    # Columns identified from the JSON file\n",
    "    columns = [\n",
    "        'name', 'Happiness/Sadness', 'Hopeful/Uncertainty', 'Secure/Insecure', 'assignedLands',\n",
    "        'contractor', 'cropSize', 'currentActivity', 'currentDay', 'currentPeasantLeisureType',\n",
    "        'currentSeason', 'daysToWorkForOther', 'farm', 'health', 'initialHealth', 'initialMoney',\n",
    "        'internalCurrentDate', 'loanAmountToPay', 'money', 'newDay', 'peasantFamilyAffinity',\n",
    "        'peasantFamilyHelper', 'peasantFamilyLandAlias', 'peasantFamilyMinimalVital',\n",
    "        'peasantFriendsAffinity', 'peasantKind', 'peasantLeisureAffinity', 'pesticidesAvailable',\n",
    "        'purpose', 'rainfallConditions', 'robberyAccount', 'seeds', 'timeLeftOnDay', 'toPay',\n",
    "        'tools', 'totalHarvestedWeight', 'waterAvailable'\n",
    "    ]\n",
    "\n",
    "    with open(json_file_path, 'r') as file, open(csv_file_path, 'w', newline='', encoding='utf-8') as csv_file:\n",
    "        writer = csv.DictWriter(csv_file, fieldnames=columns)\n",
    "        writer.writeheader()\n",
    "\n",
    "        for line in file:\n",
    "            try:\n",
    "                json_object = ast.literal_eval(line)\n",
    "                state = json.loads(json_object['state'])\n",
    "                state['name'] = json_object['name']\n",
    "                writer.writerow({k: state.get(k, '') for k in columns})\n",
    "            except Exception as e:\n",
    "                print(f\"Error parsing line: {e}\")\n"
   ]
  },
  {
   "cell_type": "code",
   "execution_count": 3,
   "id": "c7f38b3a-f645-4261-84b7-249c11d8ec1a",
   "metadata": {},
   "outputs": [],
   "source": [
    "generate_csv('benckmarkNo.log', 'benckmarkNo.csv')"
   ]
  },
  {
   "cell_type": "code",
   "execution_count": 4,
   "id": "cc11c8ac-4b8c-4ad1-bf04-35449ce7c5d4",
   "metadata": {},
   "outputs": [],
   "source": [
    "import csv\n",
    "import ast\n",
    "import json\n",
    "import os\n",
    "\n",
    "def generate_csv(json_file_paths, csv_file_path):\n",
    "    # Columns identified from the JSON file, plus the new 'emotion' column\n",
    "    columns = [\n",
    "        'emotion', 'name', 'Happiness/Sadness', 'Hopeful/Uncertainty', 'Secure/Insecure', 'assignedLands',\n",
    "        'contractor', 'cropSize', 'currentActivity', 'currentDay', 'currentPeasantLeisureType',\n",
    "        'currentSeason', 'daysToWorkForOther', 'farm', 'health', 'initialHealth', 'initialMoney',\n",
    "        'internalCurrentDate', 'loanAmountToPay', 'money', 'newDay', 'peasantFamilyAffinity',\n",
    "        'peasantFamilyHelper', 'peasantFamilyLandAlias', 'peasantFamilyMinimalVital',\n",
    "        'peasantFriendsAffinity', 'peasantKind', 'peasantLeisureAffinity', 'pesticidesAvailable',\n",
    "        'purpose', 'rainfallConditions', 'robberyAccount', 'seeds', 'timeLeftOnDay', 'toPay',\n",
    "        'tools', 'totalHarvestedWeight', 'waterAvailable'\n",
    "    ]\n",
    "\n",
    "    with open(csv_file_path, 'w', newline='', encoding='utf-8') as csv_file:\n",
    "        writer = csv.DictWriter(csv_file, fieldnames=columns)\n",
    "        writer.writeheader()\n",
    "\n",
    "        for json_file_path in json_file_paths:\n",
    "            with open(json_file_path, 'r') as file:\n",
    "                # Extract the emotion (file name without extension) from the file path\n",
    "                emotion = os.path.splitext(os.path.basename(json_file_path))[0]\n",
    "\n",
    "                for line in file:\n",
    "                    try:\n",
    "                        json_object = ast.literal_eval(line)\n",
    "                        state = json.loads(json_object['state'])\n",
    "                        state['name'] = json_object['name']\n",
    "                        # Add the emotion to the state\n",
    "                        state['emotion'] = emotion\n",
    "                        writer.writerow({k: state.get(k, '') for k in columns})\n",
    "                    except Exception as e:\n",
    "                        print(f\"Error parsing line in file {json_file_path}: {e}\")\n"
   ]
  },
  {
   "cell_type": "code",
   "execution_count": 5,
   "id": "83e3adf6-7ac8-4868-beaa-6920044ea131",
   "metadata": {},
   "outputs": [],
   "source": [
    "generate_csv(['no.log', 'si.log'], 'benckmark-fullem.csv')"
   ]
  },
  {
   "cell_type": "code",
   "execution_count": null,
   "id": "2dd54784-426f-4575-adf5-34529f94b42e",
   "metadata": {},
   "outputs": [],
   "source": []
  }
 ],
 "metadata": {
  "kernelspec": {
   "display_name": "Python 3 (ipykernel)",
   "language": "python",
   "name": "python3"
  },
  "language_info": {
   "codemirror_mode": {
    "name": "ipython",
    "version": 3
   },
   "file_extension": ".py",
   "mimetype": "text/x-python",
   "name": "python",
   "nbconvert_exporter": "python",
   "pygments_lexer": "ipython3",
   "version": "3.11.6"
  }
 },
 "nbformat": 4,
 "nbformat_minor": 5
}
