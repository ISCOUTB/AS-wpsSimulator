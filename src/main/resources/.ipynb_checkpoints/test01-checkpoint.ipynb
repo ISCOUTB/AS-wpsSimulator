{
 "cells": [
  {
   "cell_type": "code",
   "execution_count": 17,
   "id": "f4771df7-ced1-45f7-a517-4224be49b84e",
   "metadata": {},
   "outputs": [],
   "source": [
    "import json\n",
    "import pandas as pd\n",
    "import os\n",
    "\n",
    "def procesar_linea_json(linea):\n",
    "    inicio_json = linea.find('{')\n",
    "    contenido_json = linea[inicio_json:]\n",
    "    # Reemplazar caracteres de escape\n",
    "    contenido_json_limpio = contenido_json.replace('\\\"', '\"')\n",
    "    return json.loads(contenido_json_limpio)\n",
    "\n",
    "def procesar_archivo(ruta_archivo):\n",
    "    datos = []\n",
    "    with open(ruta_archivo, 'r') as archivo:\n",
    "        for linea in archivo:\n",
    "            datos_agente = procesar_linea_json(linea)\n",
    "            datos.append(datos_agente)\n",
    "    return datos\n",
    "\n",
    "def procesar_archivos(directorio):\n",
    "    datos_totales = []\n",
    "    for archivo in os.listdir(directorio):\n",
    "        if archivo.endswith('.log'):\n",
    "            ruta_completa = os.path.join(directorio, archivo)\n",
    "            datos_archivo = procesar_archivo(ruta_completa)\n",
    "            for dato in datos_archivo:\n",
    "                estado_agente = dato.get('state', '{}')\n",
    "                # Asegurarse de que estado_agente sea un diccionario\n",
    "                if isinstance(estado_agente, str):\n",
    "                    estado_agente = json.loads(estado_agente)\n",
    "                estado_agente['nombre_agente'] = dato.get('name', 'Desconocido')\n",
    "                datos_totales.append(estado_agente)\n",
    "    \n",
    "    df = pd.DataFrame(datos_totales)\n",
    "    return df\n",
    "\n",
    "def calculos(data):\n",
    "    # Asegurándose de que 'money' es numérico\n",
    "    data['money'] = pd.to_numeric(data['money'], errors='coerce')\n",
    "    \n",
    "    # Calculando el promedio de 'money' agrupado por 'nombre_agente'\n",
    "    promedio_money_por_agente = data.groupby('nombre_agente')['money'].mean()\n",
    "    \n",
    "    # Mostrar el resultado\n",
    "    print(promedio_money_por_agente)\n",
    "    \n",
    "    # Calculando el promedio total y la varianza de 'money'\n",
    "    promedio_total_money = data['money'].mean()\n",
    "    varianza_money = data['money'].var()\n",
    "    \n",
    "    # Mostrar los resultados\n",
    "    print(f\"Promedio total de 'money': {promedio_total_money}\")\n",
    "    print(f\"Varianza de 'money': {varianza_money}\")\n"
   ]
  },
  {
   "cell_type": "code",
   "execution_count": 14,
   "id": "bb380544-d275-4918-a6ab-d50c2cab002d",
   "metadata": {},
   "outputs": [
    {
     "name": "stdout",
     "output_type": "stream",
     "text": [
      "nombre_agente\n",
      "PeasantFamily_1    1494072.2\n",
      "PeasantFamily_2    1632230.2\n",
      "PeasantFamily_3    2021538.2\n",
      "PeasantFamily_4    1476641.0\n",
      "PeasantFamily_5    1640211.0\n",
      "Name: money, dtype: float64\n",
      "Promedio total de 'money': 1652938.52\n",
      "Varianza de 'money': 350328578586.76\n"
     ]
    }
   ],
   "source": [
    "dfEmotions = procesar_archivos('test01/')\n",
    "calculos(dfEmotions)"
   ]
  },
  {
   "cell_type": "code",
   "execution_count": 15,
   "id": "58760e88-4bf3-4ad2-ae37-58f59cb20471",
   "metadata": {},
   "outputs": [],
   "source": [
    "dfNOEmotions = procesar_archivos('test02/')\n",
    "calculos(dfNOEmotions)"
   ]
  }
 ],
 "metadata": {
  "kernelspec": {
   "display_name": "Python 3 (ipykernel)",
   "language": "python",
   "name": "python3"
  },
  "language_info": {
   "codemirror_mode": {
    "name": "ipython",
    "version": 3
   },
   "file_extension": ".py",
   "mimetype": "text/x-python",
   "name": "python",
   "nbconvert_exporter": "python",
   "pygments_lexer": "ipython3",
   "version": "3.11.6"
  }
 },
 "nbformat": 4,
 "nbformat_minor": 5
}
